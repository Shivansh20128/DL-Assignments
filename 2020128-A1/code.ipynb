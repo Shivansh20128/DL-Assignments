{
 "cells": [
  {
   "cell_type": "code",
   "execution_count": 1,
   "metadata": {},
   "outputs": [],
   "source": [
    "import torch\n",
    "from torch.utils.data import Dataset, DataLoader\n",
    "from torchvision import datasets, transforms"
   ]
  },
  {
   "cell_type": "code",
   "execution_count": 2,
   "metadata": {},
   "outputs": [],
   "source": [
    "class MNISTDataset(Dataset):\n",
    "    def __init__(self, root, transform=None):\n",
    "        self.dataset = datasets.MNIST(root=root, train=True, download=True, transform=transform)\n",
    "\n",
    "    def __len__(self):\n",
    "        return len(self.dataset)\n",
    "\n",
    "    def __getitem__(self, idx):\n",
    "        return self.dataset[idx]"
   ]
  },
  {
   "cell_type": "code",
   "execution_count": 3,
   "metadata": {},
   "outputs": [],
   "source": [
    "import time\n",
    "\n",
    "def loading_time_calculator(dataloader):\n",
    "    t1 = time.time()\n",
    "    for data in dataloader:\n",
    "        pass\n",
    "    t2 = time.time()\n",
    "\n",
    "    return t2 - t1"
   ]
  },
  {
   "cell_type": "code",
   "execution_count": 4,
   "metadata": {},
   "outputs": [],
   "source": [
    "# Set up transforms and custom dataset\n",
    "transform = transforms.Compose([transforms.ToTensor(), transforms.Normalize((0.5,), (0.5,))])"
   ]
  },
  {
   "cell_type": "code",
   "execution_count": 5,
   "metadata": {},
   "outputs": [],
   "source": [
    "# Batch sizes to compare\n",
    "batch_sizes = [128, 256, 512, 1024]"
   ]
  },
  {
   "cell_type": "code",
   "execution_count": 6,
   "metadata": {},
   "outputs": [],
   "source": [
    "custom_dataset = MNISTDataset(root='./dataset', transform=transform)"
   ]
  },
  {
   "cell_type": "code",
   "execution_count": 7,
   "metadata": {},
   "outputs": [],
   "source": [
    "custom_time = []\n",
    "for i in batch_sizes:\n",
    "    custom_dataloader = DataLoader(custom_dataset, batch_size=i, shuffle=True)\n",
    "    duration = loading_time_calculator(custom_dataloader)\n",
    "    custom_time.append(duration)"
   ]
  },
  {
   "cell_type": "code",
   "execution_count": 8,
   "metadata": {},
   "outputs": [],
   "source": [
    "torch_time = []\n",
    "for i in batch_sizes:\n",
    "    torch_dataloader = DataLoader(datasets.MNIST(root='./dataset', train=True, download=True, transform=transform), batch_size=i, shuffle=True)\n",
    "    duration = loading_time_calculator(torch_dataloader)\n",
    "    torch_time.append(duration)"
   ]
  },
  {
   "cell_type": "code",
   "execution_count": 9,
   "metadata": {},
   "outputs": [
    {
     "data": {
      "image/png": "[encoded data removed]",
      "text/plain": [
       "<Figure size 432x288 with 1 Axes>"
      ]
     },
     "metadata": {
      "needs_background": "light"
     },
     "output_type": "display_data"
    }
   ],
   "source": [
    "import matplotlib.pyplot as plt\n",
    "\n",
    "plt.plot(batch_sizes, custom_time, label='Custom Dataloader')\n",
    "plt.plot(batch_sizes, torch_time, label='PyTorch Dataloader')\n",
    "plt.xlabel('Batch Size')\n",
    "plt.ylabel('Loading Time (seconds)')\n",
    "plt.title('Comparison of Loading Time for Custom and PyTorch Dataloader')\n",
    "plt.legend()\n",
    "plt.show()"
   ]
  },
  {
   "cell_type": "code",
   "execution_count": null,
   "metadata": {},
   "outputs": [],
   "source": [
    "import torch\n",
    "import torch.nn as nn\n",
    "import torch.optim as optim\n",
    "from torch.utils.data import DataLoader\n",
    "from torchvision import transforms, datasets\n",
    "import matplotlib.pyplot as plt"
   ]
  },
  {
   "cell_type": "code",
   "execution_count": null,
   "metadata": {},
   "outputs": [],
   "source": [
    "\n",
    "# Define the Feed-Forward Neural Network\n",
    "class Linear(nn.Module):\n",
    "    def __init__(self, input_size, hidden_size, output_size):\n",
    "        super(Linear, self).__init__()\n",
    "        self.fc1 = nn.Linear(input_size, hidden_size)\n",
    "        self.relu1 = nn.ReLU()\n",
    "        self.fc2 = nn.Linear(hidden_size, hidden_size)\n",
    "        self.relu2 = nn.ReLU()\n",
    "        self.fc3 = nn.Linear(hidden_size, hidden_size)\n",
    "        self.relu3 = nn.ReLU()\n",
    "        self.fc4 = nn.Linear(hidden_size, hidden_size)\n",
    "        self.relu4 = nn.ReLU()\n",
    "        self.fc5  = nn.Linear(hidden_size, output_size)\n",
    "\n",
    "    def forward(self, x):\n",
    "        x = self.relu1(self.fc1(x))\n",
    "        x = self.relu2(self.fc2(x))\n",
    "        x = self.relu3(self.fc3(x))\n",
    "        x = self.relu4(self.fc4(x))\n",
    "        x = self.fc5(x)\n",
    "        return x"
   ]
  },
  {
   "cell_type": "code",
   "execution_count": null,
   "metadata": {},
   "outputs": [],
   "source": [
    "def train(model, train_loader, criterion, optimizer, epochs=60):\n",
    "    train_losses = []\n",
    "    for epoch in range(epochs):\n",
    "        model.train()\n",
    "        total_loss = 0.0\n",
    "        for inputs, labels in train_loader:\n",
    "            optimizer.zero_grad()\n",
    "            inputs = inputs.view(inputs.size(0), -1)  # Flatten the input images\n",
    "            outputs = model(inputs)\n",
    "            loss = criterion(outputs, labels)\n",
    "            loss.backward()\n",
    "            optimizer.step()\n",
    "            total_loss += loss.item()\n",
    "\n",
    "        average_loss = total_loss / len(train_loader)\n",
    "        train_losses.append(average_loss)\n",
    "        print(f'Epoch [{epoch + 1}/{epochs}], Loss: {average_loss:.4f}')\n",
    "\n",
    "    return train_losses"
   ]
  },
  {
   "cell_type": "code",
   "execution_count": null,
   "metadata": {},
   "outputs": [],
   "source": [
    "\n",
    "def test_loss(model, train_loader, criterion, optimizer):\n",
    "    test_losses = []\n",
    "    total_loss = 0.0\n",
    "    for inputs, labels in train_loader:\n",
    "        optimizer.zero_grad()\n",
    "        inputs = inputs.view(inputs.size(0), -1)  # Flatten the input images\n",
    "        outputs = model(inputs)\n",
    "        loss = criterion(outputs, labels)\n",
    "        loss.backward()\n",
    "        optimizer.step()\n",
    "        total_loss += loss.item()\n",
    "\n",
    "    average_loss = total_loss / len(train_loader)\n",
    "    train_losses.append(average_loss)\n",
    "\n",
    "    return train_losses"
   ]
  },
  {
   "cell_type": "code",
   "execution_count": null,
   "metadata": {},
   "outputs": [],
   "source": [
    "\n",
    "# Define a function for evaluating the model\n",
    "def evaluate(model, data_loader):\n",
    "    model.eval()\n",
    "    correct = 0\n",
    "    total = 0\n",
    "    with torch.no_grad():\n",
    "        for inputs, labels in data_loader:\n",
    "            inputs = inputs.view(inputs.size(0), -1)\n",
    "            outputs = model(inputs)\n",
    "            _, predicted = torch.max(outputs.data, 1)\n",
    "            total += labels.size(0)\n",
    "            correct += (predicted == labels).sum().item()\n",
    "\n",
    "    accuracy = correct / total\n",
    "    return accuracy"
   ]
  },
  {
   "cell_type": "code",
   "execution_count": null,
   "metadata": {},
   "outputs": [],
   "source": [
    "# Set up the model, loss function, and optimizer\n",
    "input_size = 28 * 28  # MNIST image size\n",
    "hidden_size = 32\n",
    "output_size = 10  # Number of classes in MNIST\n",
    "learning_rate = 0.0003"
   ]
  },
  {
   "cell_type": "code",
   "execution_count": null,
   "metadata": {},
   "outputs": [],
   "source": [
    "model = Linear(input_size, hidden_size, output_size)\n",
    "criterion = nn.CrossEntropyLoss()\n",
    "optimizer = optim.SGD(model.parameters(), lr=learning_rate)"
   ]
  },
  {
   "cell_type": "code",
   "execution_count": 10,
   "metadata": {},
   "outputs": [
    {
     "name": "stdout",
     "output_type": "stream",
     "text": [
      "Epoch [1/60], Loss: 2.3052\n",
      "Epoch [2/60], Loss: 2.3042\n",
      "Epoch [3/60], Loss: 2.3032\n",
      "Epoch [4/60], Loss: 2.3021\n",
      "Epoch [5/60], Loss: 2.3011\n",
      "Epoch [6/60], Loss: 2.3002\n",
      "Epoch [7/60], Loss: 2.2992\n",
      "Epoch [8/60], Loss: 2.2983\n",
      "Epoch [9/60], Loss: 2.2973\n",
      "Epoch [10/60], Loss: 2.2963\n",
      "Epoch [11/60], Loss: 2.2951\n",
      "Epoch [12/60], Loss: 2.2939\n",
      "Epoch [13/60], Loss: 2.2925\n",
      "Epoch [14/60], Loss: 2.2910\n",
      "Epoch [15/60], Loss: 2.2894\n",
      "Epoch [16/60], Loss: 2.2877\n",
      "Epoch [17/60], Loss: 2.2857\n",
      "Epoch [18/60], Loss: 2.2834\n",
      "Epoch [19/60], Loss: 2.2810\n",
      "Epoch [20/60], Loss: 2.2784\n",
      "Epoch [21/60], Loss: 2.2757\n",
      "Epoch [22/60], Loss: 2.2729\n",
      "Epoch [23/60], Loss: 2.2699\n",
      "Epoch [24/60], Loss: 2.2667\n",
      "Epoch [25/60], Loss: 2.2634\n",
      "Epoch [26/60], Loss: 2.2597\n",
      "Epoch [27/60], Loss: 2.2557\n",
      "Epoch [28/60], Loss: 2.2514\n",
      "Epoch [29/60], Loss: 2.2467\n",
      "Epoch [30/60], Loss: 2.2415\n",
      "Epoch [31/60], Loss: 2.2357\n",
      "Epoch [32/60], Loss: 2.2294\n",
      "Epoch [33/60], Loss: 2.2224\n",
      "Epoch [34/60], Loss: 2.2146\n",
      "Epoch [35/60], Loss: 2.2059\n",
      "Epoch [36/60], Loss: 2.1963\n",
      "Epoch [37/60], Loss: 2.1855\n",
      "Epoch [38/60], Loss: 2.1735\n",
      "Epoch [39/60], Loss: 2.1600\n",
      "Epoch [40/60], Loss: 2.1449\n",
      "Epoch [41/60], Loss: 2.1282\n",
      "Epoch [42/60], Loss: 2.1094\n",
      "Epoch [43/60], Loss: 2.0887\n",
      "Epoch [44/60], Loss: 2.0657\n",
      "Epoch [45/60], Loss: 2.0406\n",
      "Epoch [46/60], Loss: 2.0131\n",
      "Epoch [47/60], Loss: 1.9830\n",
      "Epoch [48/60], Loss: 1.9503\n",
      "Epoch [49/60], Loss: 1.9147\n",
      "Epoch [50/60], Loss: 1.8761\n",
      "Epoch [51/60], Loss: 1.8346\n",
      "Epoch [52/60], Loss: 1.7903\n",
      "Epoch [53/60], Loss: 1.7440\n",
      "Epoch [54/60], Loss: 1.6965\n",
      "Epoch [55/60], Loss: 1.6486\n",
      "Epoch [56/60], Loss: 1.6010\n",
      "Epoch [57/60], Loss: 1.5546\n",
      "Epoch [58/60], Loss: 1.5096\n",
      "Epoch [59/60], Loss: 1.4665\n",
      "Epoch [60/60], Loss: 1.4262\n"
     ]
    },
    {
     "data": {
      "image/png": "[encoded data removed]",
      "text/plain": [
       "<Figure size 432x288 with 1 Axes>"
      ]
     },
     "metadata": {
      "needs_background": "light"
     },
     "output_type": "display_data"
    },
    {
     "name": "stdout",
     "output_type": "stream",
     "text": [
      "Test Accuracy: 48.73%\n"
     ]
    }
   ],
   "source": [
    "# Train the model\n",
    "custom_dataloader = DataLoader(custom_dataset, batch_size=128, shuffle=True)\n",
    "train_losses = train(model, custom_dataloader, criterion, optimizer, epochs=60)\n",
    "\n",
    "# Evaluate on validation set (assuming you have a validation dataset)\n",
    "# Replace 'validation_dataset' and 'validation_dataloader' with your actual validation dataset and dataloader.\n",
    "validation_dataset = MNISTDataset(root='./dataset', train=False, transform=transform)\n",
    "validation_dataloader = DataLoader(validation_dataset, batch_size=128, shuffle=False)\n",
    "validation_accuracy = evaluate(model, validation_dataloader)\n",
    "\n",
    "# Evaluate on test set\n",
    "test_dataset = datasets.MNIST(root='./dataset', train=False, download=True, transform=transform)\n",
    "test_dataloader = DataLoader(test_dataset, batch_size=128, shuffle=False)\n",
    "test_accuracy = evaluate(model, test_dataloader)\n",
    "test_loss=test_loss(model, test_dataloader, criterion, optimizer)\n",
    "\n",
    "\n",
    "# Print accuracy on the test set\n",
    "print(f'Test Accuracy: {test_accuracy * 100:.2f}%')\n"
   ]
  },
  {
   "cell_type": "code",
   "execution_count": null,
   "metadata": {},
   "outputs": [],
   "source": [
    "from torch.utils.data import random_split\n",
    "\n",
    "# Split test_dataset into validation and test sets\n",
    "validation_size = int(0.4 * len(test_dataset))\n",
    "test_size = len(test_dataset) - validation_size\n",
    "validation_set, test_set = random_split(test_dataset, [validation_size, test_size])"
   ]
  },
  {
   "cell_type": "code",
   "execution_count": 13,
   "metadata": {},
   "outputs": [
    {
     "data": {
      "image/png": "[encoded data removed]",
      "text/plain": [
       "<Figure size 432x288 with 1 Axes>"
      ]
     },
     "metadata": {
      "needs_background": "light"
     },
     "output_type": "display_data"
    }
   ],
   "source": [
    "plt.plot(test_loss)\n",
    "plt.plot(train_losses)\n",
    "plt.xlabel('Epoch')\n",
    "plt.ylabel('Training Loss')\n",
    "plt.title('Training Loss over Epochs')\n",
    "plt.show()"
   ]
  }
 ],
 "metadata": {
  "kernelspec": {
   "display_name": "base",
   "language": "python",
   "name": "python3"
  },
  "language_info": {
   "codemirror_mode": {
    "name": "ipython",
    "version": 3
   },
   "file_extension": ".py",
   "mimetype": "text/x-python",
   "name": "python",
   "nbconvert_exporter": "python",
   "pygments_lexer": "ipython3",
   "version": "3.9.7"
  }
 },
 "nbformat": 4,
 "nbformat_minor": 2
}
