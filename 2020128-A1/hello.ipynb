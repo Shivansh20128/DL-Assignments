{
 "cells": [
  {
   "cell_type": "code",
   "execution_count": 1,
   "metadata": {},
   "outputs": [
    {
     "name": "stderr",
     "output_type": "stream",
     "text": [
      "Downloading...\n",
      "From: https://drive.google.com/uc?id=1ljfAeHD4UJO55OM7SCnZ8N16SOay9L_2\n",
      "To: d:\\Deep Learning\\Deep-Learning-Assignments\\2020128-A1\\blob\n",
      "100%|██████████| 16.5M/16.5M [00:02<00:00, 6.24MB/s]\n"
     ]
    },
    {
     "data": {
      "text/plain": [
       "'blob'"
      ]
     },
     "execution_count": 1,
     "metadata": {},
     "output_type": "execute_result"
    }
   ],
   "source": [
    "import gdown\n",
    "\n",
    "# Replace 'file_id' with the actual file ID you want to download\n",
    "file_id = '1ljfAeHD4UJO55OM7SCnZ8N16SOay9L_2'\n",
    "\n",
    "# Replace 'output' with the desired output file name\n",
    "output = 'blob'\n",
    "\n",
    "# Use the gdown.download method to download the file\n",
    "gdown.download(f'https://drive.google.com/uc?id={file_id}', output, quiet=False)\n",
    "\n"
   ]
  },
  {
   "cell_type": "code",
   "execution_count": 2,
   "metadata": {},
   "outputs": [
    {
     "name": "stdout",
     "output_type": "stream",
     "text": [
      "The contents of blob have been extracted to extracted_folder.\n"
     ]
    }
   ],
   "source": [
    "import tarfile\n",
    "import lzma\n",
    "\n",
    "# Replace 'your_file.tar.xz' with the actual name of your tar.xz file\n",
    "tar_xz_file = 'blob'\n",
    "\n",
    "# Replace 'extracted_folder' with the desired folder name for extraction\n",
    "output_folder = 'extracted_folder'\n",
    "\n",
    "# Open the tar.xz file for reading using the lzma module\n",
    "with lzma.open(tar_xz_file, 'rb') as f:\n",
    "    # Open the tar file for reading\n",
    "    with tarfile.open(fileobj=f, mode='r') as tar:\n",
    "        # Extract all contents to the specified folder\n",
    "        tar.extractall(output_folder)\n",
    "\n",
    "print(f'The contents of {tar_xz_file} have been extracted to {output_folder}.')\n"
   ]
  },
  {
   "cell_type": "code",
   "execution_count": 38,
   "metadata": {},
   "outputs": [],
   "source": [
    "import time\n",
    "\n",
    "def loading_time_calculator(dataloader):\n",
    "    t1 = time.time()\n",
    "    print(\"hello \",t1)\n",
    "    for data in dataloader:\n",
    "        # print(data)\n",
    "        pass\n",
    "\n",
    "    t2 = time.time()\n",
    "    # print(\"hello2 \", t2)\n",
    "\n",
    "    return t2 - t1"
   ]
  },
  {
   "cell_type": "code",
   "execution_count": 24,
   "metadata": {},
   "outputs": [
    {
     "name": "stdout",
     "output_type": "stream",
     "text": [
      "42000\n",
      "Label: 0, Image Shape: (28, 28)\n"
     ]
    }
   ],
   "source": [
    "import os\n",
    "from PIL import Image\n",
    "import numpy as np\n",
    "\n",
    "class CustomDataset:\n",
    "    def __init__(self, root_dir):\n",
    "        self.root_dir = root_dir\n",
    "        self.data = self.load_dataset()\n",
    "\n",
    "    def load_dataset(self):\n",
    "        dataset = []\n",
    "        for digit in os.listdir(self.root_dir):\n",
    "            digit_path = os.path.join(self.root_dir, digit)\n",
    "            for image_file in os.listdir(digit_path):\n",
    "                image_path = os.path.join(digit_path, image_file)\n",
    "                label = int(digit)\n",
    "                dataset.append((image_path, label))\n",
    "        return dataset\n",
    "\n",
    "    def __len__(self):\n",
    "        return len(self.data)\n",
    "\n",
    "    def __getitem__(self, idx):\n",
    "        img_path, label = self.data[idx]\n",
    "        image = np.array(Image.open(img_path))\n",
    "        return image, label\n",
    "\n",
    "# Example usage:\n",
    "root_dir = 'extracted_folder/MNIST_DATASET/trainingSet/trainingSet'\n",
    "custom_dataset = CustomDataset(root_dir)\n",
    "\n",
    "# Print the number of samples in the dataset\n",
    "print(len(custom_dataset))\n",
    "\n",
    "# Access a sample from the dataset\n",
    "sample_image, sample_label = custom_dataset[0]\n",
    "print(f\"Label: {sample_label}, Image Shape: {sample_image.shape}\")\n"
   ]
  },
  {
   "cell_type": "code",
   "execution_count": 26,
   "metadata": {},
   "outputs": [],
   "source": [
    "class CustomDataLoader:\n",
    "    def __init__(self, dataset, batch_size, shuffle=True):\n",
    "        self.dataset = dataset\n",
    "        self.batch_size = batch_size\n",
    "        self.shuffle = shuffle\n",
    "        self.indices = list(range(len(dataset)))\n",
    "        self.current_index = 0\n",
    "\n",
    "        if self.shuffle:\n",
    "            np.random.shuffle(self.indices)\n",
    "\n",
    "    def __iter__(self):\n",
    "        return self\n",
    "\n",
    "    def __next__(self):\n",
    "        if self.current_index >= len(self.indices):\n",
    "            raise StopIteration\n",
    "\n",
    "        batch_indices = self.indices[self.current_index:self.current_index + self.batch_size]\n",
    "        batch_data = [self.dataset[i] for i in batch_indices]\n",
    "\n",
    "        self.current_index += self.batch_size\n",
    "\n",
    "        images, labels = zip(*batch_data)\n",
    "        return np.array(images), np.array(labels)\n"
   ]
  },
  {
   "cell_type": "code",
   "execution_count": 46,
   "metadata": {},
   "outputs": [],
   "source": [
    "batch_sizes = [128, 256, 512, 1024]"
   ]
  },
  {
   "cell_type": "code",
   "execution_count": 48,
   "metadata": {},
   "outputs": [
    {
     "name": "stdout",
     "output_type": "stream",
     "text": [
      "hello  1706955507.648216\n",
      "hello  1706955578.6507678\n",
      "hello  1706955585.1443582\n",
      "hello  1706955591.11221\n",
      "[71.00042390823364, 6.493590354919434, 5.967851877212524, 6.483597755432129]\n"
     ]
    }
   ],
   "source": [
    "custom_time=[]\n",
    "for i in batch_sizes:\n",
    "    custom_dataloader = CustomDataLoader(custom_dataset, i)\n",
    "    duration = loading_time_calculator(custom_dataloader)\n",
    "    custom_time.append(duration)\n",
    "\n",
    "print(custom_time)\n",
    "# for i in range(0, len(custom_dataset), batch_size):\n",
    "#     batch_data = custom_dataset[i:i+batch_size]\n",
    "    # Process the batch as needed\n"
   ]
  },
  {
   "cell_type": "code",
   "execution_count": 49,
   "metadata": {},
   "outputs": [],
   "source": [
    "from torchvision import transforms, datasets\n",
    "from torch.utils.data import DataLoader\n",
    "\n",
    "transform = transforms.Compose([\n",
    "    transforms.ToTensor()\n",
    "])\n",
    "\n",
    "train_dataset = datasets.ImageFolder(root='extracted_folder/MNIST_DATASET/trainingSet/trainingSet', transform=transform)\n",
    "# train_loader = DataLoader(train_dataset, batch_size=512, shuffle=True, num_workers=4)\n"
   ]
  },
  {
   "cell_type": "code",
   "execution_count": 51,
   "metadata": {},
   "outputs": [
    {
     "name": "stdout",
     "output_type": "stream",
     "text": [
      "hello  1706955643.2020297\n",
      "hello  1706955686.9463422\n",
      "hello  1706955703.4309497\n",
      "hello  1706955719.2487733\n"
     ]
    }
   ],
   "source": [
    "# time2 = loading_time_calculator(train_loader)\n",
    "\n",
    "torch_time = []\n",
    "for i in batch_sizes:\n",
    "    torch_dataloader = DataLoader(dataset=train_dataset, batch_size=i, shuffle=True, num_workers=4)\n",
    "    duration = loading_time_calculator(torch_dataloader)\n",
    "    torch_time.append(duration)\n",
    "\n",
    "# print(time2)"
   ]
  },
  {
   "cell_type": "code",
   "execution_count": 52,
   "metadata": {},
   "outputs": [
    {
     "name": "stdout",
     "output_type": "stream",
     "text": [
      "[43.74431252479553, 16.484607458114624, 15.817823648452759, 27.271179676055908]\n"
     ]
    }
   ],
   "source": [
    "print(torch_time)"
   ]
  },
  {
   "cell_type": "code",
   "execution_count": 53,
   "metadata": {},
   "outputs": [
    {
     "data": {
      "image/png": "[encoded data removed]",
      "text/plain": [
       "<Figure size 432x288 with 1 Axes>"
      ]
     },
     "metadata": {
      "needs_background": "light"
     },
     "output_type": "display_data"
    }
   ],
   "source": [
    "import matplotlib.pyplot as plt\n",
    "plt.plot(batch_sizes, custom_time, label='Custom Dataloader')\n",
    "plt.plot(batch_sizes, torch_time, label='PyTorch Dataloader')\n",
    "plt.xlabel('Batch Size')\n",
    "plt.ylabel('Loading Time (seconds)')\n",
    "plt.title('Comparison of Loading Time for Custom and PyTorch Dataloader')\n",
    "plt.legend()\n",
    "plt.show()"
   ]
  },
  {
   "cell_type": "code",
   "execution_count": 54,
   "metadata": {},
   "outputs": [],
   "source": [
    "custom_dataloader = CustomDataLoader(custom_dataset, 512)"
   ]
  },
  {
   "cell_type": "code",
   "execution_count": 21,
   "metadata": {},
   "outputs": [
    {
     "data": {
      "text/plain": [
       "(array([[  3,   0,   0,   3,   7,   3,   0,   3,   0,  11,   0,   0,   3,\n",
       "           0,   0,   3,   8,   0,   0,   3,   0,   0,   0,   2,   0,   0,\n",
       "           0,   0],\n",
       "        [  0,   0,   0,   0,   0,   0,   0,   1,   5,   0,  12,   0,  16,\n",
       "           0,   0,   4,   0,   2,   8,   3,   0,   4,   8,   0,   0,   0,\n",
       "           0,   0],\n",
       "        [  0,   0,   2,   0,   0,   0,   1,   2,   1,  12,   0,   8,   0,\n",
       "           0,   6,   0,  11,   0,   0,   6,   7,   2,   0,   0,   0,   0,\n",
       "           0,   0],\n",
       "        [  0,   1,   3,   0,   0,   2,   3,   0,   0,   0,  12,   0,   0,\n",
       "          23,   0,   0,   0,   0,  11,   3,   0,   0,   4,   0,   0,   0,\n",
       "           0,   0],\n",
       "        [  0,   1,   1,   0,   0,   2,   0,   0,   6,   0,  25,  27, 136,\n",
       "         135, 188,  89,  84,  25,   0,   0,   3,   1,   0,   0,   0,   0,\n",
       "           0,   0],\n",
       "        [  4,   0,   0,   0,   0,   0,   0,   0,   3,  88, 247, 236, 255,\n",
       "         249, 250, 227, 240, 136,  37,   1,   0,   2,   2,   0,   0,   0,\n",
       "           0,   0],\n",
       "        [  2,   0,   0,   3,   0,   0,   4,  27, 193, 251, 253, 255, 255,\n",
       "         255, 255, 240, 254, 255, 213,  89,   0,   0,  14,   1,   0,   0,\n",
       "           0,   0],\n",
       "        [  0,   0,   0,   6,   0,   0,  18,  56, 246, 255, 253, 243, 251,\n",
       "         255, 245, 255, 255, 254, 255, 231, 119,   7,   0,   5,   0,   0,\n",
       "           0,   0],\n",
       "        [  4,   0,   0,  12,  13,   0,  65, 190, 246, 255, 255, 251, 255,\n",
       "         109,  88, 199, 255, 247, 250, 255, 234,  92,   0,   0,   0,   0,\n",
       "           0,   0],\n",
       "        [  0,  10,   1,   0,   0,  18, 163, 248, 255, 235, 216, 150, 128,\n",
       "          45,   6,   8,  22, 212, 255, 255, 252, 172,   0,  15,   0,   0,\n",
       "           0,   0],\n",
       "        [  0,   1,   4,   5,   0,   0, 187, 255, 254,  94,  57,   7,   1,\n",
       "           0,   6,   0,   0, 139, 242, 255, 255, 218,  62,   0,   0,   0,\n",
       "           0,   0],\n",
       "        [  5,   2,   0,   0,  11,  56, 252, 235, 253,  20,   5,   2,   5,\n",
       "           1,   0,   1,   2,   0,  97, 249, 248, 249, 166,   8,   0,   0,\n",
       "           0,   0],\n",
       "        [  0,   0,   2,   0,   0,  70, 255, 255, 245,  25,  10,   0,   0,\n",
       "           1,   0,   4,  10,   0,  10, 255, 246, 250, 155,   0,   0,   0,\n",
       "           0,   0],\n",
       "        [  2,   0,   7,  12,   0,  87, 226, 255, 184,   0,   3,   0,  10,\n",
       "           5,   0,   0,   0,   9,   0, 183, 251, 255, 222,  15,   0,   0,\n",
       "           0,   0],\n",
       "        [  0,   5,   1,   0,  19, 230, 255, 243, 255,  35,   2,   0,   0,\n",
       "           0,   0,   9,   8,   0,   0,  70, 245, 242, 255,  14,   0,   0,\n",
       "           0,   0],\n",
       "        [  0,   4,   3,   0,  19, 251, 239, 255, 247,  30,   1,   0,   4,\n",
       "           4,  14,   0,   0,   2,   0,  47, 255, 255, 247,  21,   0,   0,\n",
       "           0,   0],\n",
       "        [  6,   0,   2,   2,   0, 173, 247, 252, 250,  28,  10,   0,   0,\n",
       "           8,   0,   0,   0,   8,   0,  67, 249, 255, 255,  12,   0,   0,\n",
       "           0,   0],\n",
       "        [  0,   0,   6,   3,   0,  88, 255, 251, 255, 188,  21,   0,  15,\n",
       "           0,   8,   2,  16,   0,  35, 200, 247, 251, 134,   4,   0,   0,\n",
       "           0,   0],\n",
       "        [  0,   3,   3,   1,   0,  11, 211, 247, 249, 255, 189,  76,   0,\n",
       "           0,   4,   0,   2,   0, 169, 255, 255, 247,  47,   0,   0,   0,\n",
       "           0,   0],\n",
       "        [  0,   6,   0,   0,   2,   0,  59, 205, 255, 240, 255, 182,  41,\n",
       "          56,  28,  33,  42, 239, 246, 251, 238, 157,   0,   1,   0,   0,\n",
       "           0,   0],\n",
       "        [  2,   1,   0,   0,   2,  10,   0, 104, 239, 255, 240, 255, 253,\n",
       "         247, 237, 255, 255, 250, 255, 239, 255, 100,   0,   1,   0,   0,\n",
       "           0,   0],\n",
       "        [  1,   0,   3,   0,   0,   7,   0,   4, 114, 255, 255, 255, 255,\n",
       "         247, 249, 253, 251, 254, 237, 251,  89,   0,   0,   1,   0,   0,\n",
       "           0,   0],\n",
       "        [  0,   0,   9,   0,   0,   1,  13,   0,  14, 167, 255, 246, 253,\n",
       "         255, 255, 254, 242, 255, 244,  61,   0,  19,   0,   1,   0,   0,\n",
       "           0,   0],\n",
       "        [  2,   1,   7,   0,   0,   4,   0,  14,   0,  27,  61, 143, 255,\n",
       "         255, 252, 255, 149,  21,   6,  16,   0,   0,   7,   0,   0,   0,\n",
       "           0,   0],\n",
       "        [  0,   0,   0,   0,   0,   0,   0,   0,   0,   0,   0,   0,   0,\n",
       "           0,   0,   0,   0,   0,   0,   0,   0,   0,   0,   0,   0,   0,\n",
       "           0,   0],\n",
       "        [  0,   0,   0,   0,   0,   0,   0,   0,   0,   0,   0,   0,   0,\n",
       "           0,   0,   0,   0,   0,   0,   0,   0,   0,   0,   0,   0,   0,\n",
       "           0,   0],\n",
       "        [  0,   0,   0,   0,   0,   0,   0,   0,   0,   0,   0,   0,   0,\n",
       "           0,   0,   0,   0,   0,   0,   0,   0,   0,   0,   0,   0,   0,\n",
       "           0,   0],\n",
       "        [  0,   0,   0,   0,   0,   0,   0,   0,   0,   0,   0,   0,   0,\n",
       "           0,   0,   0,   0,   0,   0,   0,   0,   0,   0,   0,   0,   0,\n",
       "           0,   0]], dtype=uint8),\n",
       " 0)"
      ]
     },
     "execution_count": 21,
     "metadata": {},
     "output_type": "execute_result"
    }
   ],
   "source": [
    "custom_dataset[0]"
   ]
  },
  {
   "cell_type": "code",
   "execution_count": 22,
   "metadata": {},
   "outputs": [
    {
     "data": {
      "text/plain": [
       "(tensor([[[0.0118, 0.0000, 0.0000, 0.0118, 0.0275, 0.0118, 0.0000, 0.0118,\n",
       "           0.0000, 0.0431, 0.0000, 0.0000, 0.0118, 0.0000, 0.0000, 0.0118,\n",
       "           0.0314, 0.0000, 0.0000, 0.0118, 0.0000, 0.0000, 0.0000, 0.0078,\n",
       "           0.0000, 0.0000, 0.0000, 0.0000],\n",
       "          [0.0000, 0.0000, 0.0000, 0.0000, 0.0000, 0.0000, 0.0000, 0.0039,\n",
       "           0.0196, 0.0000, 0.0471, 0.0000, 0.0627, 0.0000, 0.0000, 0.0157,\n",
       "           0.0000, 0.0078, 0.0314, 0.0118, 0.0000, 0.0157, 0.0314, 0.0000,\n",
       "           0.0000, 0.0000, 0.0000, 0.0000],\n",
       "          [0.0000, 0.0000, 0.0078, 0.0000, 0.0000, 0.0000, 0.0039, 0.0078,\n",
       "           0.0039, 0.0471, 0.0000, 0.0314, 0.0000, 0.0000, 0.0235, 0.0000,\n",
       "           0.0431, 0.0000, 0.0000, 0.0235, 0.0275, 0.0078, 0.0000, 0.0000,\n",
       "           0.0000, 0.0000, 0.0000, 0.0000],\n",
       "          [0.0000, 0.0039, 0.0118, 0.0000, 0.0000, 0.0078, 0.0118, 0.0000,\n",
       "           0.0000, 0.0000, 0.0471, 0.0000, 0.0000, 0.0902, 0.0000, 0.0000,\n",
       "           0.0000, 0.0000, 0.0431, 0.0118, 0.0000, 0.0000, 0.0157, 0.0000,\n",
       "           0.0000, 0.0000, 0.0000, 0.0000],\n",
       "          [0.0000, 0.0039, 0.0039, 0.0000, 0.0000, 0.0078, 0.0000, 0.0000,\n",
       "           0.0235, 0.0000, 0.0980, 0.1059, 0.5333, 0.5294, 0.7373, 0.3490,\n",
       "           0.3294, 0.0980, 0.0000, 0.0000, 0.0118, 0.0039, 0.0000, 0.0000,\n",
       "           0.0000, 0.0000, 0.0000, 0.0000],\n",
       "          [0.0157, 0.0000, 0.0000, 0.0000, 0.0000, 0.0000, 0.0000, 0.0000,\n",
       "           0.0118, 0.3451, 0.9686, 0.9255, 1.0000, 0.9765, 0.9804, 0.8902,\n",
       "           0.9412, 0.5333, 0.1451, 0.0039, 0.0000, 0.0078, 0.0078, 0.0000,\n",
       "           0.0000, 0.0000, 0.0000, 0.0000],\n",
       "          [0.0078, 0.0000, 0.0000, 0.0118, 0.0000, 0.0000, 0.0157, 0.1059,\n",
       "           0.7569, 0.9843, 0.9922, 1.0000, 1.0000, 1.0000, 1.0000, 0.9412,\n",
       "           0.9961, 1.0000, 0.8353, 0.3490, 0.0000, 0.0000, 0.0549, 0.0039,\n",
       "           0.0000, 0.0000, 0.0000, 0.0000],\n",
       "          [0.0000, 0.0000, 0.0000, 0.0235, 0.0000, 0.0000, 0.0706, 0.2196,\n",
       "           0.9647, 1.0000, 0.9922, 0.9529, 0.9843, 1.0000, 0.9608, 1.0000,\n",
       "           1.0000, 0.9961, 1.0000, 0.9059, 0.4667, 0.0275, 0.0000, 0.0196,\n",
       "           0.0000, 0.0000, 0.0000, 0.0000],\n",
       "          [0.0157, 0.0000, 0.0000, 0.0471, 0.0510, 0.0000, 0.2549, 0.7451,\n",
       "           0.9647, 1.0000, 1.0000, 0.9843, 1.0000, 0.4275, 0.3451, 0.7804,\n",
       "           1.0000, 0.9686, 0.9804, 1.0000, 0.9176, 0.3608, 0.0000, 0.0000,\n",
       "           0.0000, 0.0000, 0.0000, 0.0000],\n",
       "          [0.0000, 0.0392, 0.0039, 0.0000, 0.0000, 0.0706, 0.6392, 0.9725,\n",
       "           1.0000, 0.9216, 0.8471, 0.5882, 0.5020, 0.1765, 0.0235, 0.0314,\n",
       "           0.0863, 0.8314, 1.0000, 1.0000, 0.9882, 0.6745, 0.0000, 0.0588,\n",
       "           0.0000, 0.0000, 0.0000, 0.0000],\n",
       "          [0.0000, 0.0039, 0.0157, 0.0196, 0.0000, 0.0000, 0.7333, 1.0000,\n",
       "           0.9961, 0.3686, 0.2235, 0.0275, 0.0039, 0.0000, 0.0235, 0.0000,\n",
       "           0.0000, 0.5451, 0.9490, 1.0000, 1.0000, 0.8549, 0.2431, 0.0000,\n",
       "           0.0000, 0.0000, 0.0000, 0.0000],\n",
       "          [0.0196, 0.0078, 0.0000, 0.0000, 0.0431, 0.2196, 0.9882, 0.9216,\n",
       "           0.9922, 0.0784, 0.0196, 0.0078, 0.0196, 0.0039, 0.0000, 0.0039,\n",
       "           0.0078, 0.0000, 0.3804, 0.9765, 0.9725, 0.9765, 0.6510, 0.0314,\n",
       "           0.0000, 0.0000, 0.0000, 0.0000],\n",
       "          [0.0000, 0.0000, 0.0078, 0.0000, 0.0000, 0.2745, 1.0000, 1.0000,\n",
       "           0.9608, 0.0980, 0.0392, 0.0000, 0.0000, 0.0039, 0.0000, 0.0157,\n",
       "           0.0392, 0.0000, 0.0392, 1.0000, 0.9647, 0.9804, 0.6078, 0.0000,\n",
       "           0.0000, 0.0000, 0.0000, 0.0000],\n",
       "          [0.0078, 0.0000, 0.0275, 0.0471, 0.0000, 0.3412, 0.8863, 1.0000,\n",
       "           0.7216, 0.0000, 0.0118, 0.0000, 0.0392, 0.0196, 0.0000, 0.0000,\n",
       "           0.0000, 0.0353, 0.0000, 0.7176, 0.9843, 1.0000, 0.8706, 0.0588,\n",
       "           0.0000, 0.0000, 0.0000, 0.0000],\n",
       "          [0.0000, 0.0196, 0.0039, 0.0000, 0.0745, 0.9020, 1.0000, 0.9529,\n",
       "           1.0000, 0.1373, 0.0078, 0.0000, 0.0000, 0.0000, 0.0000, 0.0353,\n",
       "           0.0314, 0.0000, 0.0000, 0.2745, 0.9608, 0.9490, 1.0000, 0.0549,\n",
       "           0.0000, 0.0000, 0.0000, 0.0000],\n",
       "          [0.0000, 0.0157, 0.0118, 0.0000, 0.0745, 0.9843, 0.9373, 1.0000,\n",
       "           0.9686, 0.1176, 0.0039, 0.0000, 0.0157, 0.0157, 0.0549, 0.0000,\n",
       "           0.0000, 0.0078, 0.0000, 0.1843, 1.0000, 1.0000, 0.9686, 0.0824,\n",
       "           0.0000, 0.0000, 0.0000, 0.0000],\n",
       "          [0.0235, 0.0000, 0.0078, 0.0078, 0.0000, 0.6784, 0.9686, 0.9882,\n",
       "           0.9804, 0.1098, 0.0392, 0.0000, 0.0000, 0.0314, 0.0000, 0.0000,\n",
       "           0.0000, 0.0314, 0.0000, 0.2627, 0.9765, 1.0000, 1.0000, 0.0471,\n",
       "           0.0000, 0.0000, 0.0000, 0.0000],\n",
       "          [0.0000, 0.0000, 0.0235, 0.0118, 0.0000, 0.3451, 1.0000, 0.9843,\n",
       "           1.0000, 0.7373, 0.0824, 0.0000, 0.0588, 0.0000, 0.0314, 0.0078,\n",
       "           0.0627, 0.0000, 0.1373, 0.7843, 0.9686, 0.9843, 0.5255, 0.0157,\n",
       "           0.0000, 0.0000, 0.0000, 0.0000],\n",
       "          [0.0000, 0.0118, 0.0118, 0.0039, 0.0000, 0.0431, 0.8275, 0.9686,\n",
       "           0.9765, 1.0000, 0.7412, 0.2980, 0.0000, 0.0000, 0.0157, 0.0000,\n",
       "           0.0078, 0.0000, 0.6627, 1.0000, 1.0000, 0.9686, 0.1843, 0.0000,\n",
       "           0.0000, 0.0000, 0.0000, 0.0000],\n",
       "          [0.0000, 0.0235, 0.0000, 0.0000, 0.0078, 0.0000, 0.2314, 0.8039,\n",
       "           1.0000, 0.9412, 1.0000, 0.7137, 0.1608, 0.2196, 0.1098, 0.1294,\n",
       "           0.1647, 0.9373, 0.9647, 0.9843, 0.9333, 0.6157, 0.0000, 0.0039,\n",
       "           0.0000, 0.0000, 0.0000, 0.0000],\n",
       "          [0.0078, 0.0039, 0.0000, 0.0000, 0.0078, 0.0392, 0.0000, 0.4078,\n",
       "           0.9373, 1.0000, 0.9412, 1.0000, 0.9922, 0.9686, 0.9294, 1.0000,\n",
       "           1.0000, 0.9804, 1.0000, 0.9373, 1.0000, 0.3922, 0.0000, 0.0039,\n",
       "           0.0000, 0.0000, 0.0000, 0.0000],\n",
       "          [0.0039, 0.0000, 0.0118, 0.0000, 0.0000, 0.0275, 0.0000, 0.0157,\n",
       "           0.4471, 1.0000, 1.0000, 1.0000, 1.0000, 0.9686, 0.9765, 0.9922,\n",
       "           0.9843, 0.9961, 0.9294, 0.9843, 0.3490, 0.0000, 0.0000, 0.0039,\n",
       "           0.0000, 0.0000, 0.0000, 0.0000],\n",
       "          [0.0000, 0.0000, 0.0353, 0.0000, 0.0000, 0.0039, 0.0510, 0.0000,\n",
       "           0.0549, 0.6549, 1.0000, 0.9647, 0.9922, 1.0000, 1.0000, 0.9961,\n",
       "           0.9490, 1.0000, 0.9569, 0.2392, 0.0000, 0.0745, 0.0000, 0.0039,\n",
       "           0.0000, 0.0000, 0.0000, 0.0000],\n",
       "          [0.0078, 0.0039, 0.0275, 0.0000, 0.0000, 0.0157, 0.0000, 0.0549,\n",
       "           0.0000, 0.1059, 0.2392, 0.5608, 1.0000, 1.0000, 0.9882, 1.0000,\n",
       "           0.5843, 0.0824, 0.0235, 0.0627, 0.0000, 0.0000, 0.0275, 0.0000,\n",
       "           0.0000, 0.0000, 0.0000, 0.0000],\n",
       "          [0.0000, 0.0000, 0.0000, 0.0000, 0.0000, 0.0000, 0.0000, 0.0000,\n",
       "           0.0000, 0.0000, 0.0000, 0.0000, 0.0000, 0.0000, 0.0000, 0.0000,\n",
       "           0.0000, 0.0000, 0.0000, 0.0000, 0.0000, 0.0000, 0.0000, 0.0000,\n",
       "           0.0000, 0.0000, 0.0000, 0.0000],\n",
       "          [0.0000, 0.0000, 0.0000, 0.0000, 0.0000, 0.0000, 0.0000, 0.0000,\n",
       "           0.0000, 0.0000, 0.0000, 0.0000, 0.0000, 0.0000, 0.0000, 0.0000,\n",
       "           0.0000, 0.0000, 0.0000, 0.0000, 0.0000, 0.0000, 0.0000, 0.0000,\n",
       "           0.0000, 0.0000, 0.0000, 0.0000],\n",
       "          [0.0000, 0.0000, 0.0000, 0.0000, 0.0000, 0.0000, 0.0000, 0.0000,\n",
       "           0.0000, 0.0000, 0.0000, 0.0000, 0.0000, 0.0000, 0.0000, 0.0000,\n",
       "           0.0000, 0.0000, 0.0000, 0.0000, 0.0000, 0.0000, 0.0000, 0.0000,\n",
       "           0.0000, 0.0000, 0.0000, 0.0000],\n",
       "          [0.0000, 0.0000, 0.0000, 0.0000, 0.0000, 0.0000, 0.0000, 0.0000,\n",
       "           0.0000, 0.0000, 0.0000, 0.0000, 0.0000, 0.0000, 0.0000, 0.0000,\n",
       "           0.0000, 0.0000, 0.0000, 0.0000, 0.0000, 0.0000, 0.0000, 0.0000,\n",
       "           0.0000, 0.0000, 0.0000, 0.0000]]]),\n",
       " 0)"
      ]
     },
     "execution_count": 22,
     "metadata": {},
     "output_type": "execute_result"
    }
   ],
   "source": [
    "train_dataset[0]"
   ]
  },
  {
   "cell_type": "code",
   "execution_count": 55,
   "metadata": {},
   "outputs": [
    {
     "ename": "ValueError",
     "evalue": "Type must be a sub-type of ndarray type",
     "output_type": "error",
     "traceback": [
      "\u001b[1;31m---------------------------------------------------------------------------\u001b[0m",
      "\u001b[1;31mValueError\u001b[0m                                Traceback (most recent call last)",
      "\u001b[1;32m~\\AppData\\Local\\Temp/ipykernel_8748/10534024.py\u001b[0m in \u001b[0;36m<module>\u001b[1;34m\u001b[0m\n\u001b[0;32m     47\u001b[0m     \u001b[1;32mfor\u001b[0m \u001b[0mbatch_idx\u001b[0m\u001b[1;33m,\u001b[0m \u001b[1;33m(\u001b[0m\u001b[0mdata\u001b[0m\u001b[1;33m,\u001b[0m \u001b[0mtarget\u001b[0m\u001b[1;33m)\u001b[0m \u001b[1;32min\u001b[0m \u001b[0menumerate\u001b[0m\u001b[1;33m(\u001b[0m\u001b[0mcustom_dataloader\u001b[0m\u001b[1;33m)\u001b[0m\u001b[1;33m:\u001b[0m\u001b[1;33m\u001b[0m\u001b[1;33m\u001b[0m\u001b[0m\n\u001b[0;32m     48\u001b[0m         \u001b[0moptimizer\u001b[0m\u001b[1;33m.\u001b[0m\u001b[0mzero_grad\u001b[0m\u001b[1;33m(\u001b[0m\u001b[1;33m)\u001b[0m\u001b[1;33m\u001b[0m\u001b[1;33m\u001b[0m\u001b[0m\n\u001b[1;32m---> 49\u001b[1;33m         \u001b[0moutput\u001b[0m \u001b[1;33m=\u001b[0m \u001b[0mmodel\u001b[0m\u001b[1;33m(\u001b[0m\u001b[0mdata\u001b[0m\u001b[1;33m)\u001b[0m\u001b[1;33m\u001b[0m\u001b[1;33m\u001b[0m\u001b[0m\n\u001b[0m\u001b[0;32m     50\u001b[0m         \u001b[0mloss\u001b[0m \u001b[1;33m=\u001b[0m \u001b[0mcriterion\u001b[0m\u001b[1;33m(\u001b[0m\u001b[0moutput\u001b[0m\u001b[1;33m,\u001b[0m \u001b[0mtarget\u001b[0m\u001b[1;33m)\u001b[0m\u001b[1;33m\u001b[0m\u001b[1;33m\u001b[0m\u001b[0m\n\u001b[0;32m     51\u001b[0m         \u001b[0mloss\u001b[0m\u001b[1;33m.\u001b[0m\u001b[0mbackward\u001b[0m\u001b[1;33m(\u001b[0m\u001b[1;33m)\u001b[0m\u001b[1;33m\u001b[0m\u001b[1;33m\u001b[0m\u001b[0m\n",
      "\u001b[1;32mc:\\Users\\Shivansh\\anaconda3\\lib\\site-packages\\torch\\nn\\modules\\module.py\u001b[0m in \u001b[0;36m_wrapped_call_impl\u001b[1;34m(self, *args, **kwargs)\u001b[0m\n\u001b[0;32m   1516\u001b[0m             \u001b[1;32mreturn\u001b[0m \u001b[0mself\u001b[0m\u001b[1;33m.\u001b[0m\u001b[0m_compiled_call_impl\u001b[0m\u001b[1;33m(\u001b[0m\u001b[1;33m*\u001b[0m\u001b[0margs\u001b[0m\u001b[1;33m,\u001b[0m \u001b[1;33m**\u001b[0m\u001b[0mkwargs\u001b[0m\u001b[1;33m)\u001b[0m  \u001b[1;31m# type: ignore[misc]\u001b[0m\u001b[1;33m\u001b[0m\u001b[1;33m\u001b[0m\u001b[0m\n\u001b[0;32m   1517\u001b[0m         \u001b[1;32melse\u001b[0m\u001b[1;33m:\u001b[0m\u001b[1;33m\u001b[0m\u001b[1;33m\u001b[0m\u001b[0m\n\u001b[1;32m-> 1518\u001b[1;33m             \u001b[1;32mreturn\u001b[0m \u001b[0mself\u001b[0m\u001b[1;33m.\u001b[0m\u001b[0m_call_impl\u001b[0m\u001b[1;33m(\u001b[0m\u001b[1;33m*\u001b[0m\u001b[0margs\u001b[0m\u001b[1;33m,\u001b[0m \u001b[1;33m**\u001b[0m\u001b[0mkwargs\u001b[0m\u001b[1;33m)\u001b[0m\u001b[1;33m\u001b[0m\u001b[1;33m\u001b[0m\u001b[0m\n\u001b[0m\u001b[0;32m   1519\u001b[0m \u001b[1;33m\u001b[0m\u001b[0m\n\u001b[0;32m   1520\u001b[0m     \u001b[1;32mdef\u001b[0m \u001b[0m_call_impl\u001b[0m\u001b[1;33m(\u001b[0m\u001b[0mself\u001b[0m\u001b[1;33m,\u001b[0m \u001b[1;33m*\u001b[0m\u001b[0margs\u001b[0m\u001b[1;33m,\u001b[0m \u001b[1;33m**\u001b[0m\u001b[0mkwargs\u001b[0m\u001b[1;33m)\u001b[0m\u001b[1;33m:\u001b[0m\u001b[1;33m\u001b[0m\u001b[1;33m\u001b[0m\u001b[0m\n",
      "\u001b[1;32mc:\\Users\\Shivansh\\anaconda3\\lib\\site-packages\\torch\\nn\\modules\\module.py\u001b[0m in \u001b[0;36m_call_impl\u001b[1;34m(self, *args, **kwargs)\u001b[0m\n\u001b[0;32m   1525\u001b[0m                 \u001b[1;32mor\u001b[0m \u001b[0m_global_backward_pre_hooks\u001b[0m \u001b[1;32mor\u001b[0m \u001b[0m_global_backward_hooks\u001b[0m\u001b[1;33m\u001b[0m\u001b[1;33m\u001b[0m\u001b[0m\n\u001b[0;32m   1526\u001b[0m                 or _global_forward_hooks or _global_forward_pre_hooks):\n\u001b[1;32m-> 1527\u001b[1;33m             \u001b[1;32mreturn\u001b[0m \u001b[0mforward_call\u001b[0m\u001b[1;33m(\u001b[0m\u001b[1;33m*\u001b[0m\u001b[0margs\u001b[0m\u001b[1;33m,\u001b[0m \u001b[1;33m**\u001b[0m\u001b[0mkwargs\u001b[0m\u001b[1;33m)\u001b[0m\u001b[1;33m\u001b[0m\u001b[1;33m\u001b[0m\u001b[0m\n\u001b[0m\u001b[0;32m   1528\u001b[0m \u001b[1;33m\u001b[0m\u001b[0m\n\u001b[0;32m   1529\u001b[0m         \u001b[1;32mtry\u001b[0m\u001b[1;33m:\u001b[0m\u001b[1;33m\u001b[0m\u001b[1;33m\u001b[0m\u001b[0m\n",
      "\u001b[1;32m~\\AppData\\Local\\Temp/ipykernel_8748/10534024.py\u001b[0m in \u001b[0;36mforward\u001b[1;34m(self, x)\u001b[0m\n\u001b[0;32m     20\u001b[0m \u001b[1;33m\u001b[0m\u001b[0m\n\u001b[0;32m     21\u001b[0m     \u001b[1;32mdef\u001b[0m \u001b[0mforward\u001b[0m\u001b[1;33m(\u001b[0m\u001b[0mself\u001b[0m\u001b[1;33m,\u001b[0m \u001b[0mx\u001b[0m\u001b[1;33m)\u001b[0m\u001b[1;33m:\u001b[0m\u001b[1;33m\u001b[0m\u001b[1;33m\u001b[0m\u001b[0m\n\u001b[1;32m---> 22\u001b[1;33m         \u001b[0mx\u001b[0m \u001b[1;33m=\u001b[0m \u001b[0mx\u001b[0m\u001b[1;33m.\u001b[0m\u001b[0mview\u001b[0m\u001b[1;33m(\u001b[0m\u001b[1;33m-\u001b[0m\u001b[1;36m1\u001b[0m\u001b[1;33m,\u001b[0m \u001b[1;36m28\u001b[0m \u001b[1;33m*\u001b[0m \u001b[1;36m28\u001b[0m\u001b[1;33m)\u001b[0m  \u001b[1;31m# Flatten the input image\u001b[0m\u001b[1;33m\u001b[0m\u001b[1;33m\u001b[0m\u001b[0m\n\u001b[0m\u001b[0;32m     23\u001b[0m         \u001b[0mx\u001b[0m \u001b[1;33m=\u001b[0m \u001b[0mF\u001b[0m\u001b[1;33m.\u001b[0m\u001b[0mrelu\u001b[0m\u001b[1;33m(\u001b[0m\u001b[0mself\u001b[0m\u001b[1;33m.\u001b[0m\u001b[0mfc1\u001b[0m\u001b[1;33m(\u001b[0m\u001b[0mx\u001b[0m\u001b[1;33m)\u001b[0m\u001b[1;33m)\u001b[0m\u001b[1;33m\u001b[0m\u001b[1;33m\u001b[0m\u001b[0m\n\u001b[0;32m     24\u001b[0m         \u001b[0mx\u001b[0m \u001b[1;33m=\u001b[0m \u001b[0mF\u001b[0m\u001b[1;33m.\u001b[0m\u001b[0mrelu\u001b[0m\u001b[1;33m(\u001b[0m\u001b[0mself\u001b[0m\u001b[1;33m.\u001b[0m\u001b[0mfc2\u001b[0m\u001b[1;33m(\u001b[0m\u001b[0mx\u001b[0m\u001b[1;33m)\u001b[0m\u001b[1;33m)\u001b[0m\u001b[1;33m\u001b[0m\u001b[1;33m\u001b[0m\u001b[0m\n",
      "\u001b[1;31mValueError\u001b[0m: Type must be a sub-type of ndarray type"
     ]
    }
   ],
   "source": [
    "import torch\n",
    "import torch.nn as nn\n",
    "import torch.optim as optim\n",
    "from torchvision import transforms, datasets\n",
    "from torch.utils.data import DataLoader\n",
    "import torch.nn.functional as F \n",
    "\n",
    "# Assuming you have already loaded your dataset using ImageFolder or other methods\n",
    "# ...\n",
    "\n",
    "# Define the Feed-Forward Neural Network model\n",
    "class FFNN(nn.Module):\n",
    "    def __init__(self):\n",
    "        super(FFNN, self).__init__()\n",
    "        self.fc1 = nn.Linear(28 * 28, 32)\n",
    "        self.fc2 = nn.Linear(32, 32)\n",
    "        self.fc3 = nn.Linear(32, 32)\n",
    "        self.fc4 = nn.Linear(32, 32)\n",
    "        self.fc5 = nn.Linear(32, 10)\n",
    "\n",
    "    def forward(self, x):\n",
    "        x = x.view(x.size(0), -1)  # Flatten the input image\n",
    "        x = F.relu(self.fc1(x))\n",
    "        x = F.relu(self.fc2(x))\n",
    "        x = F.relu(self.fc3(x))\n",
    "        x = F.relu(self.fc4(x))\n",
    "        x = self.fc5(x)\n",
    "        return F.log_softmax(x, dim=1)\n",
    "\n",
    "# Instantiate the model\n",
    "model = FFNN()\n",
    "\n",
    "# Define the loss function and optimizer\n",
    "criterion = nn.CrossEntropyLoss()\n",
    "optimizer = optim.SGD(model.parameters(), lr=0.0003)\n",
    "\n",
    "# Assuming you have a DataLoader for your dataset\n",
    "# ...\n",
    "\n",
    "# Training loop\n",
    "num_epochs = 60\n",
    "\n",
    "for epoch in range(num_epochs):\n",
    "    total_correct = 0\n",
    "    total_samples = 0\n",
    "\n",
    "    for batch_idx, (data, target) in enumerate(custom_dataloader):\n",
    "        optimizer.zero_grad()\n",
    "        output = model(data)\n",
    "        loss = criterion(output, target)\n",
    "        loss.backward()\n",
    "        optimizer.step()\n",
    "\n",
    "        _, predicted = torch.max(output, 1)\n",
    "        total_correct += (predicted == target).sum().item()\n",
    "        total_samples += target.size(0)\n",
    "\n",
    "        if batch_idx % 100 == 0:\n",
    "            print(f'Epoch {epoch}, Batch {batch_idx}, Loss: {loss.item()}')\n",
    "\n",
    "    accuracy = total_correct / total_samples\n",
    "    print(f'Epoch {epoch}, Accuracy on Training Set: {accuracy}')\n"
   ]
  },
  {
   "cell_type": "code",
   "execution_count": 5,
   "metadata": {},
   "outputs": [],
   "source": [
    "import torch.optim as optim\n",
    "\n",
    "criterion = nn.CrossEntropyLoss()\n",
    "optimizer = optim.Adam(model.parameters(), lr=0.001)\n"
   ]
  },
  {
   "cell_type": "code",
   "execution_count": null,
   "metadata": {},
   "outputs": [],
   "source": []
  }
 ],
 "metadata": {
  "kernelspec": {
   "display_name": "base",
   "language": "python",
   "name": "python3"
  },
  "language_info": {
   "codemirror_mode": {
    "name": "ipython",
    "version": 3
   },
   "file_extension": ".py",
   "mimetype": "text/x-python",
   "name": "python",
   "nbconvert_exporter": "python",
   "pygments_lexer": "ipython3",
   "version": "3.9.7"
  }
 },
 "nbformat": 4,
 "nbformat_minor": 2
}
